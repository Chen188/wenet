{
 "cells": [
  {
   "cell_type": "markdown",
   "id": "8999ae83",
   "metadata": {},
   "source": [
    "## 选择Notebook环境\n",
    "Notebook的运行环境可以选择conda_pytorch_p36，本实验所用的sagemaker版本为2.42.0，接下来我们会安装此版本的包。"
   ]
  },
  {
   "cell_type": "code",
   "execution_count": null,
   "id": "6a82cf81",
   "metadata": {},
   "outputs": [],
   "source": [
    "! pip install --upgrade pip\n",
    "! pip install sagemaker==2.42.0"
   ]
  },
  {
   "cell_type": "code",
   "execution_count": null,
   "id": "3c7474ff",
   "metadata": {},
   "outputs": [],
   "source": [
    "import boto3\n",
    "import sagemaker\n",
    "from sagemaker import get_execution_role\n",
    "\n",
    "region = boto3.session.Session().region_name\n",
    "role   = get_execution_role()\n",
    "sess   = sagemaker.Session()\n",
    "bucket = sess.default_bucket()\n",
    "\n",
    "bucket"
   ]
  },
  {
   "cell_type": "markdown",
   "id": "4afb2cad",
   "metadata": {},
   "source": [
    "## 准备Docker image"
   ]
  },
  {
   "cell_type": "code",
   "execution_count": null,
   "id": "b360a916",
   "metadata": {},
   "outputs": [],
   "source": [
    "import boto3\n",
    "\n",
    "account_id = boto3.client('sts').get_caller_identity().get('Account')\n",
    "region = boto3.Session().region_name\n",
    "ecr_repository = 'sagemaker-wenet'\n",
    "\n",
    "# 登录ECR服务\n",
    "!aws ecr get-login-password --region {region} | docker login --username AWS --password-stdin {account_id}.dkr.ecr.{region}.amazonaws.com"
   ]
  },
  {
   "cell_type": "markdown",
   "id": "1cbb9d56",
   "metadata": {},
   "source": [
    "### 创建容器注册表"
   ]
  },
  {
   "cell_type": "code",
   "execution_count": null,
   "id": "a7a81b1c",
   "metadata": {},
   "outputs": [],
   "source": [
    "!aws ecr create-repository --repository-name $ecr_repository"
   ]
  },
  {
   "cell_type": "markdown",
   "id": "ad3e9b46",
   "metadata": {},
   "source": [
    "### 构建训练镜像"
   ]
  },
  {
   "cell_type": "code",
   "execution_count": null,
   "id": "ade357c9",
   "metadata": {},
   "outputs": [],
   "source": [
    "training_docker_file_path = '/fsx/wenet'\n",
    "\n",
    "!cat $training_docker_file_path/Dockerfile"
   ]
  },
  {
   "cell_type": "code",
   "execution_count": null,
   "id": "09d22377",
   "metadata": {
    "scrolled": true
   },
   "outputs": [],
   "source": [
    "# 构建训练镜像并推送到ECR\n",
    "tag = ':training-pip-pt181-py38'\n",
    "training_repository_uri = '{}.dkr.ecr.{}.amazonaws.com/{}'.format(account_id, region, ecr_repository + tag)\n",
    "print('training_repository_uri: ', training_repository_uri)\n",
    "\n",
    "!cd $training_docker_file_path && docker build -t \"$ecr_repository$tag\" .\n",
    "!docker tag {ecr_repository + tag} $training_repository_uri\n",
    "!docker push $training_repository_uri\n",
    "\n",
    "# !docker pull $training_repository_uri"
   ]
  },
  {
   "cell_type": "markdown",
   "id": "901c0b5c",
   "metadata": {},
   "source": [
    "### 构建推理镜像"
   ]
  },
  {
   "cell_type": "code",
   "execution_count": null,
   "id": "e3384e1b",
   "metadata": {},
   "outputs": [],
   "source": [
    "decoding_docker_file_path='/fsx/wenet/runtime/server/x86'\n",
    "\n",
    "!cat $decoding_docker_file_path/Dockerfile"
   ]
  },
  {
   "cell_type": "code",
   "execution_count": null,
   "id": "9c6d4a62",
   "metadata": {},
   "outputs": [],
   "source": [
    "# 构建推理容器并推送到ECR\n",
    "tag = ':decoding'\n",
    "decoding_repository_uri = '{}.dkr.ecr.{}.amazonaws.com/{}'.format(account_id, region, ecr_repository + tag)\n",
    "print('decoding_repository_uri: ', decoding_repository_uri)\n",
    "\n",
    "\n",
    "!cd $decoding_docker_file_path && docker build -t \"$ecr_repository$tag\" .\n",
    "!docker tag {ecr_repository + tag} $decoding_repository_uri\n",
    "!docker push $decoding_repository_uri\n"
   ]
  },
  {
   "cell_type": "markdown",
   "id": "d77a9fb5",
   "metadata": {},
   "source": [
    "## 数据准备"
   ]
  },
  {
   "cell_type": "markdown",
   "id": "1b798f6c",
   "metadata": {},
   "source": [
    "### 数据下载"
   ]
  },
  {
   "cell_type": "code",
   "execution_count": null,
   "id": "54c59239",
   "metadata": {},
   "outputs": [],
   "source": [
    "data_download_to=/fsx/asr-data/OpenSLR/33\n",
    "! mkdir -p $data_download_to\n",
    "! cd /fsx/wenet/examples/aishell/s0 && \\\n",
    "! bash sm-run.sh --stage -1 --stop_stage -1 --data $data_download_to"
   ]
  },
  {
   "cell_type": "markdown",
   "id": "79138148",
   "metadata": {},
   "source": [
    "### 数据预处理 - 本地模式\n",
    "\n",
    "本地测试模式，可以指定instance_type为local_gpu，如果是CPU实例，则为local。并在fit函数中，指定相关数据的file路径。"
   ]
  },
  {
   "cell_type": "code",
   "execution_count": null,
   "id": "da749a72",
   "metadata": {},
   "outputs": [],
   "source": [
    "%cd /fsx/wenet\n",
    "\n",
    "data_dir   = '/opt/ml/input/data/train/asr-data/OpenSLR/33'\n",
    "trail_dir  = '/opt/ml/input/data/train/sm-train/trail0'\n",
    "shared_dir = '/opt/ml/input/data/train/sm-train/shared'\n",
    "\n",
    "from sagemaker.pytorch.estimator import PyTorch\n",
    "\n",
    "hp= {\n",
    "    'stage': 0, 'stop_stage': 3, 'train_set':'train', \n",
    "    'data': data_dir, 'trail_dir': trail_dir, 'shared_dir': shared_dir\n",
    "}\n",
    "\n",
    "estimator=PyTorch(\n",
    "    entry_point='examples/aishell/s0/sm-run.sh',\n",
    "    image_uri=training_repository_uri,\n",
    "    instance_type='local_gpu',\n",
    "    instance_count=1,\n",
    "    source_dir='.',\n",
    "    role=role,\n",
    "    hyperparameters=hp,\n",
    "    \n",
    "    subnets=subnets,\n",
    "    security_group_ids=security_group_ids,\n",
    "    \n",
    "    debugger_hook_config=False,\n",
    "    disable_profiler=True\n",
    ")\n",
    "\n",
    "\n",
    "estimator.fit({'train':'file:///fsx'})\n"
   ]
  },
  {
   "cell_type": "markdown",
   "id": "6536d765",
   "metadata": {},
   "source": [
    "### 数据预处理 - SageMaker托管实例\n",
    "\n",
    "在托管实例中处理数据，需要将数据来源定义为FSx文件系统。"
   ]
  },
  {
   "cell_type": "code",
   "execution_count": null,
   "id": "f1832687",
   "metadata": {
    "scrolled": true
   },
   "outputs": [],
   "source": [
    "from sagemaker.inputs import FileSystemInput\n",
    "from sagemaker.pytorch.estimator import PyTorch\n",
    "\n",
    "# 指定文件系统的id.\n",
    "file_system_id = 'fs-0f8a3b8eef47b6ff8'\n",
    "# 提供数据集所在的路径，注意格式\n",
    "file_system_path = '/yobzhbmv'\n",
    "# 指定挂载文件系统的访问模式，支持\"ro\"（只读）或\"rw\"（读写）两种，注意内置算法只支持 以 ro 的方式挂载\n",
    "file_system_access_mode = 'rw'\n",
    "# 指定文件系统的类型, 支持\"EFS\" 或 \"FSxLustre\"两种.\n",
    "file_system_type = 'FSxLustre'\n",
    "# 以VPC内的方式启动 Amazon SageMaker 训练任务,指定所在子网和安全组，subnet需要为list或者tuple格式\n",
    "security_group_ids = ['sg-04acfc98f6929ee4e']\n",
    "# subnets= ['vpc-3c49de46']\n",
    "subnets= ['subnet-07ce0ab63b4cfeb25']\n",
    "\n",
    "# 定义数据输入\n",
    "file_system_input_train = FileSystemInput(file_system_id=file_system_id,\n",
    "                                  file_system_type=file_system_type,\n",
    "                                  directory_path=file_system_path,\n",
    "                                  file_system_access_mode=file_system_access_mode)\n"
   ]
  },
  {
   "cell_type": "markdown",
   "id": "da6c1880",
   "metadata": {},
   "source": [
    "接下来，我们将启动托管实例执行数据预处理逻辑。\n",
    "\n",
    "我们需要将instance_type定义为预处理需要的实例类型，fit函数中指定上面定义的FSx文件系统。"
   ]
  },
  {
   "cell_type": "code",
   "execution_count": null,
   "id": "b7788ec7",
   "metadata": {
    "scrolled": true
   },
   "outputs": [],
   "source": [
    "# bash sm-run.sh --stage 0 --stop_stage 3 --train_set train  \\\n",
    "#     --data /opt/ml/input/data/train/asr-data/OpenSLR/33 \\\n",
    "#     --trail_dir /opt/ml/input/data/train/sm-train/trail0 \\\n",
    "#     --shared_dir /opt/ml/input/data/train/sm-train/shared \n",
    "\n",
    "# 容器内路径和Notebook实例上的关系如下：\n",
    "# /opt/ml/input/data/train  <==> /fsx\n",
    "# /opt/ml/input/data/train/asr-data/OpenSLR/33  <==> /fsx/asr-data/OpenSLR/33\n",
    "# /opt/ml/input/data/train/sm-train ==> /fsx/sm-train\n",
    "\n",
    "\n",
    "data_dir   = '/opt/ml/input/data/train/asr-data/OpenSLR/33'\n",
    "trail_dir  = '/opt/ml/input/data/train/sm-train/trail0'\n",
    "shared_dir = '/opt/ml/input/data/train/sm-train/shared'\n",
    "\n",
    "\n",
    "hp= {\n",
    "    'stage': 0, 'stop_stage': 3, 'train_set':'train', \n",
    "    'data': data_dir, 'trail_dir': trail_dir, 'shared_dir': shared_dir\n",
    "}\n",
    "\n",
    "estimator=PyTorch(\n",
    "    entry_point='examples/aishell/s0/sm-run.sh',\n",
    "    image_uri=training_repository_uri,\n",
    "    instance_type='ml.c5.4xlarge',\n",
    "    instance_count=1,\n",
    "    source_dir='.',\n",
    "    role=role,\n",
    "    hyperparameters=hp,\n",
    "    \n",
    "    subnets=subnets,\n",
    "    security_group_ids=security_group_ids,\n",
    "    \n",
    "    debugger_hook_config=False,\n",
    "    disable_profiler=True\n",
    ")\n",
    "\n",
    "estimator.fit(inputs={'train': file_system_input_train})"
   ]
  },
  {
   "cell_type": "markdown",
   "id": "66191ae5",
   "metadata": {},
   "source": [
    "## 模型训练 - 本地训练模式\n",
    "\n",
    "在模型研发过程中，算法人员需要反复调整代码逻辑，如果每次代码调整就打包一个docker镜像就显得很麻烦，因此，您可以先通过SageMaker的本地训练模式，来调试代码。本地训练模式会直接在Notebook所在实例中启动对应的容器并执行训练逻辑，并自动将数据映射给容器。\n",
    "\n",
    "CUDA_VISIBLE_DEVICES需要和之行数据处理代码实例的GPU相匹配，如单个实例只有两个GPU卡，则设为'1,2'。"
   ]
  },
  {
   "cell_type": "code",
   "execution_count": null,
   "id": "0e9fba5e",
   "metadata": {
    "scrolled": true
   },
   "outputs": [],
   "source": [
    "# bash sm-run.sh --stage 4 --stop_stage 4 --train_set train  \\\n",
    "#     --data /opt/ml/input/data/train/asr-data/OpenSLR/33 \\\n",
    "#     --trail_dir /opt/ml/input/data/train/sm-train/trail0 \\\n",
    "#     --shared_dir /opt/ml/input/data/train/sm-train/shared \n",
    "\n",
    "instance_type='local_gpu'\n",
    "instance_count = 1\n",
    "CUDA_VISIBLE_DEVICES='0'\n",
    "\n",
    "hp= {\n",
    "    'stage': 4, 'stop_stage': 4, 'train_set':'train', \n",
    "    'data': data_dir, 'trail_dir': trail_dir, 'shared_dir': shared_dir,\n",
    "    'CUDA_VISIBLE_DEVICES': CUDA_VISIBLE_DEVICES, \n",
    "    'num_nodes': instance_count\n",
    "}\n",
    "\n",
    "estimator=PyTorch( \n",
    "    entry_point='examples/aishell/s0/sm-run.sh',\n",
    "    image_uri=training_repository_uri,\n",
    "    instance_type =instance_type,\n",
    "    instance_count=instance_count,\n",
    "    source_dir='.',\n",
    "    role=role,\n",
    "    hyperparameters=hp,\n",
    "    \n",
    "    subnets=subnets,\n",
    "    security_group_ids=security_group_ids,\n",
    "    \n",
    "    debugger_hook_config=False,\n",
    "    disable_profiler=True\n",
    ")\n",
    "\n",
    "\n",
    "estimator.fit({'train': 'file:///fsx'})"
   ]
  },
  {
   "cell_type": "markdown",
   "id": "c2585285",
   "metadata": {},
   "source": [
    "## 模型训练 - SageMaker托管实例\n",
    "\n",
    "在确定代码逻辑无误后，我们可以很容易通过修改参数的方式，使用托管的实例开启真正的训练任务。\n",
    "这里，我们只需要调整实例类型、需要的实例数量及数据输入方式。我们以2台ml.p3.8xlarge的实例为例，其各自包含4张Nvidia V100显卡，共8张显卡。"
   ]
  },
  {
   "cell_type": "code",
   "execution_count": null,
   "id": "51556790",
   "metadata": {},
   "outputs": [],
   "source": [
    "# bash sm-run.sh --stage 4 --stop_stage 4 --train_set train  \\\n",
    "#     --data /opt/ml/input/data/train/asr-data/OpenSLR/33 \\\n",
    "#     --trail_dir /opt/ml/input/data/train/sm-train/trail0 \\\n",
    "#     --shared_dir /opt/ml/input/data/train/sm-train/shared \n",
    "\n",
    "instance_count = 2\n",
    "\n",
    "instance_type='ml.p3.8xlarge'\n",
    "CUDA_VISIBLE_DEVICES='0,1,2,3'\n",
    "\n",
    "# instance_type='ml.p3.2xlarge'\n",
    "# CUDA_VISIBLE_DEVICES='0'\n",
    "\n",
    "hp= {\n",
    "    'stage': 4, 'stop_stage': 4, 'train_set':'train', \n",
    "    'data': data_dir, 'trail_dir': trail_dir, 'shared_dir': shared_dir,\n",
    "    'CUDA_VISIBLE_DEVICES': CUDA_VISIBLE_DEVICES, \n",
    "    'ddp_init_protocol': 'tcp',\n",
    "    'num_nodes': instance_count\n",
    "}\n",
    "\n",
    "estimator=PyTorch( \n",
    "    entry_point='examples/aishell/s0/sm-run.sh',\n",
    "    image_uri=training_repository_uri,\n",
    "    instance_type =instance_type,\n",
    "    instance_count=instance_count,\n",
    "    source_dir='.',\n",
    "    role=role,\n",
    "    hyperparameters=hp,\n",
    "    \n",
    "    subnets=subnets,\n",
    "    security_group_ids=security_group_ids,\n",
    "    \n",
    "    debugger_hook_config=False,\n",
    "    disable_profiler=True,\n",
    "    environment={\n",
    "        'NCCL_SOCKET_IFNAME': 'eth0',\n",
    "        'NCCL_IB_DISABLE': 1\n",
    "    }\n",
    ")\n",
    "\n",
    "\n",
    "estimator.fit(inputs={'train': file_system_input_train})\n"
   ]
  },
  {
   "cell_type": "markdown",
   "id": "ffbf8e90",
   "metadata": {},
   "source": [
    "### 导出模型"
   ]
  },
  {
   "cell_type": "code",
   "execution_count": null,
   "id": "51ef53f1",
   "metadata": {},
   "outputs": [],
   "source": [
    "%cd /fsx/wenet"
   ]
  },
  {
   "cell_type": "code",
   "execution_count": null,
   "id": "bcd6c78e",
   "metadata": {
    "scrolled": true
   },
   "outputs": [],
   "source": [
    "from sagemaker.pytorch.estimator import PyTorch\n",
    "\n",
    "instance_type='local'\n",
    "instance_count = 1\n",
    "CUDA_VISIBLE_DEVICES='0'\n",
    "\n",
    "hp= {\n",
    "    'stage': 6, 'stop_stage': 6, 'train_set':'train', \n",
    "    'data': data_dir, 'trail_dir': trail_dir, 'shared_dir': shared_dir,\n",
    "    'decode_modes': 'attention_rescoring',\n",
    "    'average_num': 30,\n",
    "    'CUDA_VISIBLE_DEVICES': CUDA_VISIBLE_DEVICES, \n",
    "#     'ddp_init_protocol': 'tcp',\n",
    "#     'num_nodes': instance_count\n",
    "}\n",
    "\n",
    "estimator=PyTorch(\n",
    "    entry_point='examples/aishell/s0/sm-run.sh',\n",
    "    image_uri=training_repository_uri,\n",
    "    instance_type =instance_type,\n",
    "    instance_count=instance_count,\n",
    "    source_dir='.',\n",
    "    role=role,\n",
    "    hyperparameters=hp,\n",
    "    \n",
    "    subnets=subnets,\n",
    "    security_group_ids=security_group_ids,\n",
    "    \n",
    "    debugger_hook_config=False,\n",
    "    disable_profiler=True,\n",
    "    environment={\n",
    "        'NCCL_SOCKET_IFNAME': 'eth0',\n",
    "        'NCCL_IB_DISABLE': 1\n",
    "    }\n",
    ")\n",
    "\n",
    "estimator.fit({'train':'file:///fsx'})"
   ]
  }
 ],
 "metadata": {
  "kernelspec": {
   "display_name": "conda_tensorflow_p36",
   "language": "python",
   "name": "conda_tensorflow_p36"
  },
  "language_info": {
   "codemirror_mode": {
    "name": "ipython",
    "version": 3
   },
   "file_extension": ".py",
   "mimetype": "text/x-python",
   "name": "python",
   "nbconvert_exporter": "python",
   "pygments_lexer": "ipython3",
   "version": "3.6.13"
  }
 },
 "nbformat": 4,
 "nbformat_minor": 5
}
